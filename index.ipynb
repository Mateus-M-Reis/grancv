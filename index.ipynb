{
 "cells": [
  {
   "cell_type": "code",
   "execution_count": 1,
   "id": "fd314f4d",
   "metadata": {},
   "outputs": [],
   "source": [
    "from app import app"
   ]
  },
  {
   "cell_type": "code",
   "execution_count": 2,
   "id": "4247d6ca",
   "metadata": {},
   "outputs": [
    {
     "data": {
      "application/vnd.jupyter.widget-view+json": {
       "model_id": "3cf5f3583db748c4ae280a18f2b30000",
       "version_major": 2,
       "version_minor": 0
      },
      "text/plain": [
       "Row(children=[Card(children=[NavigationDrawer(children=[List(children=[ListItem(children=[Btn(children=[Icon(c…"
      ]
     },
     "metadata": {},
     "output_type": "display_data"
    }
   ],
   "source": [
    "app.layout"
   ]
  },
  {
   "cell_type": "code",
   "execution_count": null,
   "id": "bfcc46a6-0f3d-4745-ba66-3aaa16443c4b",
   "metadata": {},
   "outputs": [],
   "source": []
  }
 ],
 "metadata": {
  "jupytext": {
   "cell_metadata_filter": "-all",
   "main_language": "python",
   "notebook_metadata_filter": "-all"
  },
  "kernelspec": {
   "display_name": "Python 3 (ipykernel)",
   "language": "python",
   "name": "python3"
  },
  "language_info": {
   "codemirror_mode": {
    "name": "ipython",
    "version": 3
   },
   "file_extension": ".py",
   "mimetype": "text/x-python",
   "name": "python",
   "nbconvert_exporter": "python",
   "pygments_lexer": "ipython3",
   "version": "3.9.7"
  },
  "widgets": {
   "application/vnd.jupyter.widget-state+json": {
    "state": {},
    "version_major": 2,
    "version_minor": 0
   }
  }
 },
 "nbformat": 4,
 "nbformat_minor": 5
}
