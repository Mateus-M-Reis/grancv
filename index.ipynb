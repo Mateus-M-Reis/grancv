{
 "cells": [
  {
   "cell_type": "code",
   "execution_count": null,
   "id": "fd314f4d",
   "metadata": {},
   "outputs": [],
   "source": [
    "from app import app"
   ]
  },
  {
   "cell_type": "code",
   "execution_count": null,
   "id": "4247d6ca",
   "metadata": {},
   "outputs": [],
   "source": [
    "app.layout"
   ]
  }
 ],
 "metadata": {
  "jupytext": {
   "cell_metadata_filter": "-all",
   "main_language": "python",
   "notebook_metadata_filter": "-all"
  }
 },
 "nbformat": 4,
 "nbformat_minor": 5
}
