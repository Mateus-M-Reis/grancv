{
 "cells": [
  {
   "cell_type": "markdown",
   "metadata": {},
   "source": [
    "### Bibliotecas"
   ]
  },
  {
   "cell_type": "code",
   "execution_count": 1,
   "metadata": {},
   "outputs": [],
   "source": [
    "#from __future__ import print_function\n",
    "import numpy as np\n",
    "import random\n",
    "from os import path\n",
    "\n",
    "import bqplot.pyplot as plt\n",
    "#import bqplot as bq\n",
    "\n",
    "from IPython.display import Image\n",
    "from IPython.core.display import HTML, display\n",
    "\n",
    "import cv2\n",
    "\n",
    "from ipycanvas import Canvas, hold_canvas"
   ]
  },
  {
   "cell_type": "code",
   "execution_count": 2,
   "metadata": {},
   "outputs": [
    {
     "data": {
      "application/javascript": [
       "document.body.classList.add('theme-dark')\n"
      ],
      "text/plain": [
       "<IPython.core.display.Javascript object>"
      ]
     },
     "metadata": {},
     "output_type": "display_data"
    }
   ],
   "source": [
    "%%javascript\n",
    "document.body.classList.add('theme-dark')"
   ]
  },
  {
   "cell_type": "markdown",
   "metadata": {},
   "source": [
    "### Imagens Iniciais"
   ]
  },
  {
   "cell_type": "code",
   "execution_count": 3,
   "metadata": {},
   "outputs": [
    {
     "name": "stdout",
     "output_type": "stream",
     "text": [
      "(632, 843, 3)\n",
      "(632, 843, 3)\n",
      "(632, 843)\n"
     ]
    }
   ],
   "source": [
    "img = cv2.imread('./imagens/desmonte.jpg',1)\n",
    "print(img.shape)\n",
    "img_rgb = cv2.cvtColor(img, cv2.COLOR_BGR2RGB)\n",
    "print(img_rgb.shape)\n",
    "img_gray = cv2.cvtColor(img, cv2.COLOR_BGR2GRAY)\n",
    "print(img_gray.shape)"
   ]
  },
  {
   "cell_type": "code",
   "execution_count": 49,
   "metadata": {},
   "outputs": [
    {
     "data": {
      "application/vnd.jupyter.widget-view+json": {
       "model_id": "8f43093a9dda443b982594ec82621c1a",
       "version_major": 2,
       "version_minor": 0
      },
      "text/plain": [
       "Accordion(children=(Box(children=(Dropdown(description='Method', options=('THRESH_BINARY', 'THRESH_BINARY_INV'…"
      ]
     },
     "metadata": {},
     "output_type": "display_data"
    }
   ],
   "source": [
    "class TresholdWid():\n",
    "    \n",
    "    def __init__(self):\n",
    "        from ipywidgets import Dropdown, IntSlider, Box, Layout, Accordion\n",
    "        \n",
    "        self.layout = Layout(\n",
    "            display='flex',\n",
    "            flex_flow='column',  \n",
    "            align_items='stretch',\n",
    "            width='auto'\n",
    "        )\n",
    "        \n",
    "        self.dropdown = Dropdown(\n",
    "            options=['THRESH_BINARY','THRESH_BINARY_INV','THRESH_TRUNC','THRESH_TOZERO','THRESH_TOZERO_INV'],\n",
    "            value='THRESH_BINARY',\n",
    "            description='Method',\n",
    "            style={'description_width':'44px'},\n",
    "            disabled=False\n",
    "        )\n",
    "        \n",
    "        self.slider = IntSlider(\n",
    "            value=127, min=0, max=255, step=1, \n",
    "            description='Thresh Value:', \n",
    "            layout={\n",
    "                #'max_width':'440px', \n",
    "                'width':'auto'\n",
    "            }        \n",
    "        )\n",
    "        \n",
    "        self.wid = Accordion(\n",
    "            children = [\n",
    "                Box([\n",
    "                    self.dropdown,\n",
    "                    self.slider \n",
    "                    ],\n",
    "                    layout = self.layout\n",
    "                )\n",
    "            ]\n",
    "        )\n",
    "        self.wid.set_title(0,'Thresholding Simples')\n",
    "        \n",
    "    def returnWid(self):\n",
    "        return(self.wid)\n",
    "        \n",
    "    def displayWid(self):\n",
    "        display(self.wid)\n",
    "        \n",
    "        \n",
    "test = TresholdWid()\n",
    "test.displayWid()"
   ]
  },
  {
   "cell_type": "code",
   "execution_count": 50,
   "metadata": {},
   "outputs": [
    {
     "data": {
      "application/vnd.jupyter.widget-view+json": {
       "model_id": "f0b8a98e6ab746a5ad542a594d2dadf2",
       "version_major": 2,
       "version_minor": 0
      },
      "text/plain": [
       "Accordion(children=(Accordion(children=(Box(children=(Dropdown(description='Method', options=('THRESH_BINARY',…"
      ]
     },
     "metadata": {},
     "output_type": "display_data"
    }
   ],
   "source": [
    "from ipywidgets import Accordion\n",
    "Accordion(\n",
    "    children=[\n",
    "        test.returnWid()\n",
    "    ],\n",
    "    layout = {\n",
    "        'max_width': '400px'\n",
    "    }\n",
    ")"
   ]
  },
  {
   "cell_type": "code",
   "execution_count": null,
   "metadata": {},
   "outputs": [],
   "source": []
  }
 ],
 "metadata": {
  "kernelspec": {
   "display_name": "Python 3",
   "language": "python",
   "name": "python3"
  },
  "language_info": {
   "codemirror_mode": {
    "name": "ipython",
    "version": 3
   },
   "file_extension": ".py",
   "mimetype": "text/x-python",
   "name": "python",
   "nbconvert_exporter": "python",
   "pygments_lexer": "ipython3",
   "version": "3.7.6"
  }
 },
 "nbformat": 4,
 "nbformat_minor": 4
}
